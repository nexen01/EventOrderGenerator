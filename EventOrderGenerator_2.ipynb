{
  "nbformat": 4,
  "nbformat_minor": 0,
  "metadata": {
    "colab": {
      "name": "EventOrderGenerator-2.ipynb",
      "provenance": [],
      "collapsed_sections": [],
      "toc_visible": true,
      "authorship_tag": "ABX9TyM/Q7QclZHE3mkxXNhInCtB",
      "include_colab_link": true
    },
    "kernelspec": {
      "name": "python3",
      "display_name": "Python 3"
    }
  },
  "cells": [
    {
      "cell_type": "markdown",
      "metadata": {
        "id": "view-in-github",
        "colab_type": "text"
      },
      "source": [
        "<a href=\"https://colab.research.google.com/github/nexen01/EventOrderGenerator/blob/main/EventOrderGenerator_2.ipynb\" target=\"_parent\"><img src=\"https://colab.research.google.com/assets/colab-badge.svg\" alt=\"Open In Colab\"/></a>"
      ]
    },
    {
      "cell_type": "markdown",
      "source": [
        "# **Event Order Generator**\n",
        "This is the Jupyter notebook for my event order generator. \\\\\n",
        "The goal of this code is to take the order the 13 individual events offered at a typical NCAA conference or national championship meet, as well as the fact that individual events take place over 3 days, and decide what events go on what days. "
      ],
      "metadata": {
        "id": "XCGze9kEG803"
      }
    },
    {
      "cell_type": "markdown",
      "source": [
        "See this blogpost on my site for background on this topic \n",
        "\n",
        "https://markklinchin.wordpress.com/2021/01/13/event-order-and-pairings-an-incomplete-rabbithole-that-includes-association-rule-mining/"
      ],
      "metadata": {
        "id": "GfFbyZo42ya8"
      }
    },
    {
      "cell_type": "code",
      "metadata": {
        "colab": {
          "base_uri": "https://localhost:8080/"
        },
        "id": "zlDn65FcIulw",
        "outputId": "388b9822-8b38-4f19-ce38-be475ebcc8e6"
      },
      "source": [
        "#These are the events in swimming\n",
        "events = [\"50 Free\", \"100 Free\", \"200 Free\", \"500 Free\", \"1650 Free\", \"100 Back\", \"200 Back\", \"100 Breast\", \"200 Breast\", \"100 Fly\", \"200 Fly\", \"200 IM\", \"400 IM\"]\n",
        "print(len(events))"
      ],
      "execution_count": 2,
      "outputs": [
        {
          "output_type": "stream",
          "name": "stdout",
          "text": [
            "13\n"
          ]
        }
      ]
    },
    {
      "cell_type": "markdown",
      "source": [
        "This is the heart of the problem: Finding multinomal combinations. The multinomial coefficient is a number from combinatorics and probability that describes how many ways can $N$ elements of a set be placed into $k$ distinct sets of size $n_1, n_2, ...n_k$, where the sum of the size of the $k$ sets is the same as the size of $N$. \\\\\n",
        "These two snippets below only find out how many such combinations there are, but list them out. The input is a list of elements \"items\" and an array \"slotset\", which is an array of the sizes of sets $n_1, n_2, ...n_k$. "
      ],
      "metadata": {
        "id": "z0GpEaXWHiCQ"
      }
    },
    {
      "cell_type": "code",
      "metadata": {
        "id": "gcfExe0TIw8h"
      },
      "source": [
        "#Returns list of all combinations of elements of list \"items\" of \"slots\" length, each element of the list  being a set of items\n",
        "def list_combos(items, slots):\n",
        "    return_this = []\n",
        "    if(len(items) <= slots | slots<= 0):\n",
        "        return return_this\n",
        "    #Base case: if there's only one slot, then just retun every possible item to put in the one slot\n",
        "    if(slots == 1):\n",
        "        #print(\"slots is 1\")\n",
        "        for i in items:\n",
        "            new_set = {i}\n",
        "            #new_set = [i]\n",
        "            return_this.append(new_set)\n",
        "    #Recursive case: for every item in slot, make that the \"first\" item in a set, and then find combos for the rest of the set. Should lead to the base case\n",
        "    else:\n",
        "        for i in range(0,(len(items) - slots) + 1):\n",
        "            most_of_return_this = list_combos(items[i+1:],slots-1)\n",
        "            #print(most_of_return_this)\n",
        "            for j in most_of_return_this:\n",
        "                if(len(j)<slots-1):\n",
        "                    print(\"my sus was right\")\n",
        "                j.add(items[i])\n",
        "                #j.append(items[i])\n",
        "                return_this.append(j)\n",
        "\n",
        "    #For some reason, this function gets all combinations with slots up to \"slots\" length instead of only \"slots\" length. So this is a lazy way to fix it: remove ones whose length I don't want\n",
        "    for i in return_this:\n",
        "        if(len(i) < slots):\n",
        "            return_this.remove(i)\n",
        "    return return_this"
      ],
      "execution_count": 3,
      "outputs": []
    },
    {
      "cell_type": "code",
      "metadata": {
        "id": "z-1tXSuHIy3A"
      },
      "source": [
        "#Returns list of list of sets for all multinomial combinations of elements of list \"items\" into sets specified by list of intergers \"slotset\"\n",
        "#Assumption: sum(slotset)=len(items)\n",
        "def list_multinomial_combos(items, slotset):\n",
        "    #Base case: if we only have one set of slots to put all the items in, so we put themm all there\n",
        "    return_this = []\n",
        "    if(len(slotset)==1):\n",
        "        return_this = [[set(items)]]\n",
        "    else:\n",
        "        combos = list_combos(items, slotset[0])\n",
        "        for i in combos:\n",
        "            items_without_combo = items.copy()\n",
        "            for j in i:\n",
        "                items_without_combo.remove(j)\n",
        "            smaller_slotset = slotset.copy()\n",
        "            smaller_slotset.pop(0)\n",
        "            most_of_the_slots = list_multinomial_combos(items_without_combo, smaller_slotset)\n",
        "            #list_multinomial_combos returns a list of lists of sets. So for EVERY list, we need to prepend the combo we withheld, and then we get an element for the list (of lists of sets)!\n",
        "            for j in most_of_the_slots:\n",
        "                j.insert(0,i)\n",
        "                return_this.append(j)\n",
        "    return return_this"
      ],
      "execution_count": 4,
      "outputs": []
    },
    {
      "cell_type": "markdown",
      "source": [
        "This snippet takes the input of a list of all possible event orders in consideration, as well as a pair of events to remove. \\\\\n",
        "The function loops through `event_orders`, and the two events of `to_remove` are both scheduled to be on the same day, then that order gets removed from `event_orders`. \\\\\n",
        "The function returns a copy of `event_orders`, only with all event orders that contain `to_remove` removed "
      ],
      "metadata": {
        "id": "RJTSEUU8IfJQ"
      }
    },
    {
      "cell_type": "code",
      "metadata": {
        "id": "BtGhyZd3I2WQ"
      },
      "source": [
        "def remove_doubles(event_orders, to_remove):\n",
        "    counter = 0\n",
        "    return_this = event_orders.copy()\n",
        "    for order in event_orders:\n",
        "        counter += 1\n",
        "        if(counter%10000==0):\n",
        "          print(\"Considered\", counter, \"event orders so far\")\n",
        "        for day in order:\n",
        "            #print(day)\n",
        "            if(to_remove.issubset(day)):\n",
        "                return_this.remove(order)\n",
        "    return return_this"
      ],
      "execution_count": 5,
      "outputs": []
    },
    {
      "cell_type": "markdown",
      "source": [
        "This snippet neatly prints an event schedule"
      ],
      "metadata": {
        "id": "I3N0CyC_Jg3B"
      }
    },
    {
      "cell_type": "code",
      "metadata": {
        "id": "3FwT3L7FP9Fo"
      },
      "source": [
        "def print_event_order(event_order):\n",
        "  for day in event_order:\n",
        "    print(\"Day \", event_order.index(day)+1, \": \", sep=\"\")\n",
        "    for event in day:\n",
        "      print(\"\\t\", event)"
      ],
      "execution_count": 6,
      "outputs": []
    },
    {
      "cell_type": "markdown",
      "source": [
        "This snippet combines everything done so far into one simple algorithm:\n",
        "1. Create an array of all possible orders. \n",
        "2. Iterate through every single double in `all_doubles`, in order. For each double: \n",
        "   *   Attempt to remove all orders in consideration that contains this double\n",
        "   *   If this leaves us with zero orderings left, it means we've hit a contradiction in requirements. Because we did the more common conflict already, we just disregard this one\n",
        "   *   Otherwise, iterate again until there's a small enough number of orders (for now I did 5) of events to consider that we can manually choose the best one\n",
        "3. Choose the event order left that we like best. \n",
        "\n",
        "The array `all_doubles` is a list of every single possible pair of events, ordered from most commonly done to least commonly done from the data set (every single senior champs in the eastern zone in 2019). The ordering was determined using an association rule mining algorithm (apriori) done in a sperate R file. "
      ],
      "metadata": {
        "id": "VCMmjxk0Jpep"
      }
    },
    {
      "cell_type": "code",
      "metadata": {
        "id": "Tr6SoQGtIuDL",
        "colab": {
          "base_uri": "https://localhost:8080/"
        },
        "outputId": "3ed0f1c2-277d-448c-9c04-5173ce8b6032"
      },
      "source": [
        "# Trying to make it all work in 1 try\n",
        "all_possible_orders = list_multinomial_combos(events, [3,5,5])\n",
        "#This list was obtained using association rule mining in a seperate r program. \n",
        "# This is a list of sets of 2 events, in order from most commonly paired to least commonly paired. \n",
        "all_doubles = [{'100 Free', '50 Free'}, {'100 Back', '200 Back'}, {'100 Breast', '200 Breast'}, {'100 Free', '200 Free'}, {'100 Fly', '100 Free'}, {'100 Fly', '50 Free'}, {'100 Fly', '200 Fly'}, {'100 Back', '50 Free'}, {'200 Free', '50 Free'}, {'100 Back', '100 Free'}, {'100 Breast', '200 IM'}, {'200 IM', '400 IM'}, {'100 Back', '100 Fly'}, {'100 Fly', '200 IM'}, {'100 Free', '200 IM'}, {'200 Breast', '200 IM'}, {'200 Free', '500 Free'}, {'100 Fly', '200 Free'}, {'100 Back', '200 IM'}, {'100 Back', '200 Free'}, {'200 Free', '200 IM'}, {'200 Back', '200 IM'}, {'200 Back', '200 Free'}, {'100 Free', '200 Back'}, {'200 IM', '50 Free'}, {'100 Fly', '200 Back'}, {'100 Breast', '50 Free'}, {'200 Fly', '200 IM'}, {'100 Breast', '100 Free'}, {'200 Back', '50 Free'}, {'200 Back', '400 IM'}, {'200 Breast', '400 IM'}, {'400 IM', '500 Free'}, {'200 Fly', '400 IM'}, {'1000 Free', '500 Free'}, {'200 Free', '400 IM'}, {'200 Fly', '200 Free'}, {'200 IM', '500 Free'}, {'100 Breast', '400 IM'}, {'100 Free', '500 Free'}, {'100 Breast', '100 Fly'}, {'200 Back', '500 Free'}, {'100 Back', '400 IM'}, {'100 Free', '200 Fly'}, {'100 Fly', '400 IM'}, {'100 Back', '100 Breast'}, {'100 Fly', '500 Free'}, {'200 Back', '200 Fly'}, {'100 Back', '200 Fly'}, {'200 Fly', '500 Free'}, {'200 Breast', '50 Free'}, {'1000 Free', '200 Free'}, {'1650 Free', '500 Free'}, {'100 Free', '200 Breast'}, {'100 Free', '400 IM'}, {'1000 Free', '1650 Free'}, {'100 Fly', '200 Breast'}, {'200 Fly', '50 Free'}, {'100 Back', '500 Free'}, {'100 Breast', '200 Back'}, {'1000 Free', '400 IM'}, {'50 Free', '500 Free'}, {'100 Breast', '200 Free'}, {'100 Back', '200 Breast'}, {'1650 Free', '200 Free'}, {'200 Back', '200 Breast'}, {'200 Breast', '200 Fly'}, {'400 IM', '50 Free'}]\n",
        "\n",
        "\n",
        "#This loop considers all possible event orders and removes ones with the most common double not yet searched. \n",
        "#If removing a double results in 0 possibe event orders, then we do not try to remove it and move on\n",
        "#We keep iterating until there's less than 5 options left for event orders, and select manually from there what makes the most sense. \n",
        "less_orders = all_possible_orders\n",
        "for double in all_doubles:\n",
        "    print(double)\n",
        "    less_orders_2 = remove_doubles(less_orders,double)\n",
        "    if(len(less_orders_2)!=0):\n",
        "      less_orders = less_orders_2\n",
        "      print(\"Done. Event orders left: \", end=\"\\t\")\n",
        "      print(len(less_orders))\n",
        "      if(len(less_orders)<5):\n",
        "        break\n",
        "    \n",
        "print(\"Orders we're gonna print: \", end=\"\")\n",
        "print(len(less_orders))\n",
        "\n",
        "print(less_orders)\n",
        "\n",
        "for order in less_orders:\n",
        "  print(\" \")\n",
        "  print(\"Order number\", less_orders.index(order)+1)\n",
        "  print_event_order(order)"
      ],
      "execution_count": 7,
      "outputs": [
        {
          "output_type": "stream",
          "name": "stdout",
          "text": [
            "{'50 Free', '100 Free'}\n",
            "Considered 10000 event orders so far\n",
            "Considered 20000 event orders so far\n",
            "Considered 30000 event orders so far\n",
            "Considered 40000 event orders so far\n",
            "Considered 50000 event orders so far\n",
            "Considered 60000 event orders so far\n",
            "Considered 70000 event orders so far\n",
            "Done. Event orders left: \t50820\n",
            "{'100 Back', '200 Back'}\n",
            "Considered 10000 event orders so far\n",
            "Considered 20000 event orders so far\n",
            "Considered 30000 event orders so far\n",
            "Considered 40000 event orders so far\n",
            "Considered 50000 event orders so far\n",
            "Done. Event orders left: \t35952\n",
            "{'100 Breast', '200 Breast'}\n",
            "Considered 10000 event orders so far\n",
            "Considered 20000 event orders so far\n",
            "Considered 30000 event orders so far\n",
            "Done. Event orders left: \t25536\n",
            "{'100 Free', '200 Free'}\n",
            "Considered 10000 event orders so far\n",
            "Considered 20000 event orders so far\n",
            "Done. Event orders left: \t17568\n",
            "{'100 Fly', '100 Free'}\n",
            "Considered 10000 event orders so far\n",
            "Done. Event orders left: \t11648\n",
            "{'50 Free', '100 Fly'}\n",
            "Considered 10000 event orders so far\n",
            "Done. Event orders left: \t6400\n",
            "{'100 Fly', '200 Fly'}\n",
            "Done. Event orders left: \t4352\n",
            "{'50 Free', '100 Back'}\n",
            "Done. Event orders left: \t2952\n",
            "{'50 Free', '200 Free'}\n",
            "Done. Event orders left: \t1528\n",
            "{'100 Back', '100 Free'}\n",
            "Done. Event orders left: \t752\n",
            "{'200 IM', '100 Breast'}\n",
            "Done. Event orders left: \t520\n",
            "{'200 IM', '400 IM'}\n",
            "Done. Event orders left: \t376\n",
            "{'100 Back', '100 Fly'}\n",
            "{'200 IM', '100 Fly'}\n",
            "Done. Event orders left: \t252\n",
            "{'200 IM', '100 Free'}\n",
            "Done. Event orders left: \t126\n",
            "{'200 IM', '200 Breast'}\n",
            "Done. Event orders left: \t64\n",
            "{'500 Free', '200 Free'}\n",
            "Done. Event orders left: \t48\n",
            "{'100 Fly', '200 Free'}\n",
            "{'200 IM', '100 Back'}\n",
            "Done. Event orders left: \t48\n",
            "{'100 Back', '200 Free'}\n",
            "{'200 IM', '200 Free'}\n",
            "Done. Event orders left: \t48\n",
            "{'200 IM', '200 Back'}\n",
            "Done. Event orders left: \t24\n",
            "{'200 Back', '200 Free'}\n",
            "Done. Event orders left: \t24\n",
            "{'100 Free', '200 Back'}\n",
            "{'200 IM', '50 Free'}\n",
            "{'100 Fly', '200 Back'}\n",
            "Done. Event orders left: \t24\n",
            "{'50 Free', '100 Breast'}\n",
            "Done. Event orders left: \t24\n",
            "{'200 IM', '200 Fly'}\n",
            "Done. Event orders left: \t12\n",
            "{'100 Breast', '100 Free'}\n",
            "Done. Event orders left: \t6\n",
            "{'50 Free', '200 Back'}\n",
            "Done. Event orders left: \t6\n",
            "{'400 IM', '200 Back'}\n",
            "Done. Event orders left: \t4\n",
            "Orders we're gonna print: 4\n",
            "[[{'200 IM', '50 Free', '500 Free'}, {'200 Back', '1650 Free', '200 Breast', '200 Fly', '100 Free'}, {'200 Free', '400 IM', '100 Breast', '100 Fly', '100 Back'}], [{'200 IM', '50 Free', '500 Free'}, {'200 Free', '400 IM', '100 Breast', '100 Fly', '100 Back'}, {'200 Back', '1650 Free', '200 Breast', '200 Fly', '100 Free'}], [{'200 IM', '50 Free', '1650 Free'}, {'200 Back', '200 Breast', '200 Fly', '500 Free', '100 Free'}, {'200 Free', '400 IM', '100 Breast', '100 Fly', '100 Back'}], [{'200 IM', '50 Free', '1650 Free'}, {'200 Free', '400 IM', '100 Breast', '100 Fly', '100 Back'}, {'200 Back', '200 Breast', '200 Fly', '500 Free', '100 Free'}]]\n",
            " \n",
            "Order number 1\n",
            "Day 1: \n",
            "\t 200 IM\n",
            "\t 50 Free\n",
            "\t 500 Free\n",
            "Day 2: \n",
            "\t 200 Back\n",
            "\t 1650 Free\n",
            "\t 200 Breast\n",
            "\t 200 Fly\n",
            "\t 100 Free\n",
            "Day 3: \n",
            "\t 200 Free\n",
            "\t 400 IM\n",
            "\t 100 Breast\n",
            "\t 100 Fly\n",
            "\t 100 Back\n",
            " \n",
            "Order number 2\n",
            "Day 1: \n",
            "\t 200 IM\n",
            "\t 50 Free\n",
            "\t 500 Free\n",
            "Day 2: \n",
            "\t 200 Free\n",
            "\t 400 IM\n",
            "\t 100 Breast\n",
            "\t 100 Fly\n",
            "\t 100 Back\n",
            "Day 3: \n",
            "\t 200 Back\n",
            "\t 1650 Free\n",
            "\t 200 Breast\n",
            "\t 200 Fly\n",
            "\t 100 Free\n",
            " \n",
            "Order number 3\n",
            "Day 1: \n",
            "\t 200 IM\n",
            "\t 50 Free\n",
            "\t 1650 Free\n",
            "Day 2: \n",
            "\t 200 Back\n",
            "\t 200 Breast\n",
            "\t 200 Fly\n",
            "\t 500 Free\n",
            "\t 100 Free\n",
            "Day 3: \n",
            "\t 200 Free\n",
            "\t 400 IM\n",
            "\t 100 Breast\n",
            "\t 100 Fly\n",
            "\t 100 Back\n",
            " \n",
            "Order number 4\n",
            "Day 1: \n",
            "\t 200 IM\n",
            "\t 50 Free\n",
            "\t 1650 Free\n",
            "Day 2: \n",
            "\t 200 Free\n",
            "\t 400 IM\n",
            "\t 100 Breast\n",
            "\t 100 Fly\n",
            "\t 100 Back\n",
            "Day 3: \n",
            "\t 200 Back\n",
            "\t 200 Breast\n",
            "\t 200 Fly\n",
            "\t 500 Free\n",
            "\t 100 Free\n"
          ]
        }
      ]
    },
    {
      "cell_type": "markdown",
      "source": [
        "Note that two of the results is the real order of events at an NCAA national or conference championship (barring order within days). This, in a sense, validates our methodology and the NCAA's decision-making. Our method is correct because it corresponded to a real decision, and this real decision now has some real mathematical backing. "
      ],
      "metadata": {
        "id": "l8kwYWejK-wB"
      }
    },
    {
      "cell_type": "code",
      "source": [],
      "metadata": {
        "id": "R2lOEwWC7-7t"
      },
      "execution_count": null,
      "outputs": []
    }
  ]
}